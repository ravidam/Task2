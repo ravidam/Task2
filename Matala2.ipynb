{
 "cells": [
  {
   "cell_type": "code",
   "execution_count": 408,
   "metadata": {},
   "outputs": [],
   "source": [
    "import pandas as pd\n",
    "import datetime\n",
    "import re\n",
    "import matplotlib.pyplot as plt"
   ]
  },
  {
   "cell_type": "code",
   "execution_count": 409,
   "metadata": {},
   "outputs": [
    {
     "name": "stderr",
     "output_type": "stream",
     "text": [
      "C:\\Users\\RAVID\\anaconda3\\lib\\site-packages\\IPython\\core\\interactiveshell.py:3146: DtypeWarning: Columns (6) have mixed types.Specify dtype option on import or set low_memory=False.\n",
      "  has_raised = await self.run_ast_nodes(code_ast.body, cell_name,\n"
     ]
    },
    {
     "name": "stdout",
     "output_type": "stream",
     "text": [
      "<class 'pandas.core.frame.DataFrame'>\n",
      "RangeIndex: 4635837 entries, 0 to 4635836\n",
      "Data columns (total 9 columns):\n",
      " #   Column         Dtype \n",
      "---  ------         ----- \n",
      " 0   event_time     object\n",
      " 1   event_type     object\n",
      " 2   product_id     int64 \n",
      " 3   category_id    int64 \n",
      " 4   category_code  object\n",
      " 5   brand          object\n",
      " 6   price          object\n",
      " 7   user_id        int64 \n",
      " 8   user_session   object\n",
      "dtypes: int64(3), object(6)\n",
      "memory usage: 318.3+ MB\n"
     ]
    }
   ],
   "source": [
    "data = pd.read_csv('C:\\\\Users\\\\RAVID\\\\Desktop\\\\Ariel\\\\3rd year\\\\semester 2\\\\כרייה וניתוח נתונים מתקדם בפייתון\\\\מטלות\\\\מטלה 2\\\\matala2_cosmetics_2019-Nov.csv')\n",
    "data.info()"
   ]
  },
  {
   "cell_type": "markdown",
   "metadata": {},
   "source": [
    "**סעיף 1**"
   ]
  },
  {
   "cell_type": "code",
   "execution_count": 410,
   "metadata": {},
   "outputs": [
    {
     "data": {
      "text/html": [
       "<div>\n",
       "<style scoped>\n",
       "    .dataframe tbody tr th:only-of-type {\n",
       "        vertical-align: middle;\n",
       "    }\n",
       "\n",
       "    .dataframe tbody tr th {\n",
       "        vertical-align: top;\n",
       "    }\n",
       "\n",
       "    .dataframe thead th {\n",
       "        text-align: right;\n",
       "    }\n",
       "</style>\n",
       "<table border=\"1\" class=\"dataframe\">\n",
       "  <thead>\n",
       "    <tr style=\"text-align: right;\">\n",
       "      <th></th>\n",
       "      <th>event_time</th>\n",
       "      <th>event_type</th>\n",
       "      <th>product_id</th>\n",
       "      <th>category_id</th>\n",
       "      <th>category_code</th>\n",
       "      <th>brand</th>\n",
       "      <th>price</th>\n",
       "      <th>user_id</th>\n",
       "      <th>user_session</th>\n",
       "    </tr>\n",
       "  </thead>\n",
       "  <tbody>\n",
       "    <tr>\n",
       "      <th>0</th>\n",
       "      <td>2019-11-01 00:00:02 UTC</td>\n",
       "      <td>view</td>\n",
       "      <td>5802432</td>\n",
       "      <td>1487580009286598681</td>\n",
       "      <td>NaN</td>\n",
       "      <td>NaN</td>\n",
       "      <td>0.32</td>\n",
       "      <td>562076640</td>\n",
       "      <td>09fafd6c-6c99-46b1-834f-33527f4de241</td>\n",
       "    </tr>\n",
       "    <tr>\n",
       "      <th>1</th>\n",
       "      <td>2019-11-01 00:00:09 UTC</td>\n",
       "      <td>cart</td>\n",
       "      <td>5844397</td>\n",
       "      <td>1487580006317032337</td>\n",
       "      <td>NaN</td>\n",
       "      <td>NaN</td>\n",
       "      <td>2.38</td>\n",
       "      <td>553329724</td>\n",
       "      <td>2067216c-31b5-455d-a1cc-af0575a34ffb</td>\n",
       "    </tr>\n",
       "    <tr>\n",
       "      <th>2</th>\n",
       "      <td>2019-11-01 00:00:10 UTC</td>\n",
       "      <td>view</td>\n",
       "      <td>5837166</td>\n",
       "      <td>1783999064103190764</td>\n",
       "      <td>NaN</td>\n",
       "      <td>pnb</td>\n",
       "      <td>22.22</td>\n",
       "      <td>556138645</td>\n",
       "      <td>57ed222e-a54a-4907-9944-5a875c2d7f4f</td>\n",
       "    </tr>\n",
       "    <tr>\n",
       "      <th>3</th>\n",
       "      <td>2019-11-01 00:00:11 UTC</td>\n",
       "      <td>cart</td>\n",
       "      <td>5876812</td>\n",
       "      <td>1487580010100293687</td>\n",
       "      <td>NaN</td>\n",
       "      <td>jessnail</td>\n",
       "      <td>3.16</td>\n",
       "      <td>564506666</td>\n",
       "      <td>186c1951-8052-4b37-adce-dd9644b1d5f7</td>\n",
       "    </tr>\n",
       "    <tr>\n",
       "      <th>4</th>\n",
       "      <td>2019-11-01 00:00:24 UTC</td>\n",
       "      <td>remove_from_cart</td>\n",
       "      <td>5826182</td>\n",
       "      <td>1487580007483048900</td>\n",
       "      <td>NaN</td>\n",
       "      <td>NaN</td>\n",
       "      <td>3.33</td>\n",
       "      <td>553329724</td>\n",
       "      <td>2067216c-31b5-455d-a1cc-af0575a34ffb</td>\n",
       "    </tr>\n",
       "    <tr>\n",
       "      <th>...</th>\n",
       "      <td>...</td>\n",
       "      <td>...</td>\n",
       "      <td>...</td>\n",
       "      <td>...</td>\n",
       "      <td>...</td>\n",
       "      <td>...</td>\n",
       "      <td>...</td>\n",
       "      <td>...</td>\n",
       "      <td>...</td>\n",
       "    </tr>\n",
       "    <tr>\n",
       "      <th>4635019</th>\n",
       "      <td>2019-11-30 23:59:46 UTC</td>\n",
       "      <td>view</td>\n",
       "      <td>5830317</td>\n",
       "      <td>1487580009496313889</td>\n",
       "      <td>NaN</td>\n",
       "      <td>NaN</td>\n",
       "      <td>4.76</td>\n",
       "      <td>457678989</td>\n",
       "      <td>ee50b160-a4db-4722-8751-6812c5b38295</td>\n",
       "    </tr>\n",
       "    <tr>\n",
       "      <th>4635020</th>\n",
       "      <td>2019-11-30 23:59:47 UTC</td>\n",
       "      <td>view</td>\n",
       "      <td>5733064</td>\n",
       "      <td>1487580004832248652</td>\n",
       "      <td>NaN</td>\n",
       "      <td>beautix</td>\n",
       "      <td>9.37</td>\n",
       "      <td>422196217</td>\n",
       "      <td>ab5e6dd5-8700-4ecc-a300-9f1eca5d1a95</td>\n",
       "    </tr>\n",
       "    <tr>\n",
       "      <th>4635021</th>\n",
       "      <td>2019-11-30 23:59:47 UTC</td>\n",
       "      <td>view</td>\n",
       "      <td>5867785</td>\n",
       "      <td>1487580007835370453</td>\n",
       "      <td>NaN</td>\n",
       "      <td>kims</td>\n",
       "      <td>31.1</td>\n",
       "      <td>572579084</td>\n",
       "      <td>d42865b7-7e04-4038-9be0-a59165625f06</td>\n",
       "    </tr>\n",
       "    <tr>\n",
       "      <th>4635022</th>\n",
       "      <td>2019-11-30 23:59:57 UTC</td>\n",
       "      <td>view</td>\n",
       "      <td>5779406</td>\n",
       "      <td>2151191071051219817</td>\n",
       "      <td>NaN</td>\n",
       "      <td>NaN</td>\n",
       "      <td>2.86</td>\n",
       "      <td>540006764</td>\n",
       "      <td>d4b5aa49-d731-40f1-92f1-277416d6e063</td>\n",
       "    </tr>\n",
       "    <tr>\n",
       "      <th>4635023</th>\n",
       "      <td>2019-11-30 23:59:58 UTC</td>\n",
       "      <td>view</td>\n",
       "      <td>5880201</td>\n",
       "      <td>2029731308699124089</td>\n",
       "      <td>NaN</td>\n",
       "      <td>rasyan</td>\n",
       "      <td>3.76</td>\n",
       "      <td>579969854</td>\n",
       "      <td>e9fa2c3e-8c9e-448c-880a-21ca57c18b3b</td>\n",
       "    </tr>\n",
       "  </tbody>\n",
       "</table>\n",
       "<p>4635024 rows × 9 columns</p>\n",
       "</div>"
      ],
      "text/plain": [
       "                      event_time        event_type  product_id  \\\n",
       "0        2019-11-01 00:00:02 UTC              view     5802432   \n",
       "1        2019-11-01 00:00:09 UTC              cart     5844397   \n",
       "2        2019-11-01 00:00:10 UTC              view     5837166   \n",
       "3        2019-11-01 00:00:11 UTC              cart     5876812   \n",
       "4        2019-11-01 00:00:24 UTC  remove_from_cart     5826182   \n",
       "...                          ...               ...         ...   \n",
       "4635019  2019-11-30 23:59:46 UTC              view     5830317   \n",
       "4635020  2019-11-30 23:59:47 UTC              view     5733064   \n",
       "4635021  2019-11-30 23:59:47 UTC              view     5867785   \n",
       "4635022  2019-11-30 23:59:57 UTC              view     5779406   \n",
       "4635023  2019-11-30 23:59:58 UTC              view     5880201   \n",
       "\n",
       "                 category_id category_code     brand  price    user_id  \\\n",
       "0        1487580009286598681           NaN       NaN   0.32  562076640   \n",
       "1        1487580006317032337           NaN       NaN   2.38  553329724   \n",
       "2        1783999064103190764           NaN       pnb  22.22  556138645   \n",
       "3        1487580010100293687           NaN  jessnail   3.16  564506666   \n",
       "4        1487580007483048900           NaN       NaN   3.33  553329724   \n",
       "...                      ...           ...       ...    ...        ...   \n",
       "4635019  1487580009496313889           NaN       NaN   4.76  457678989   \n",
       "4635020  1487580004832248652           NaN   beautix   9.37  422196217   \n",
       "4635021  1487580007835370453           NaN      kims   31.1  572579084   \n",
       "4635022  2151191071051219817           NaN       NaN   2.86  540006764   \n",
       "4635023  2029731308699124089           NaN    rasyan   3.76  579969854   \n",
       "\n",
       "                                 user_session  \n",
       "0        09fafd6c-6c99-46b1-834f-33527f4de241  \n",
       "1        2067216c-31b5-455d-a1cc-af0575a34ffb  \n",
       "2        57ed222e-a54a-4907-9944-5a875c2d7f4f  \n",
       "3        186c1951-8052-4b37-adce-dd9644b1d5f7  \n",
       "4        2067216c-31b5-455d-a1cc-af0575a34ffb  \n",
       "...                                       ...  \n",
       "4635019  ee50b160-a4db-4722-8751-6812c5b38295  \n",
       "4635020  ab5e6dd5-8700-4ecc-a300-9f1eca5d1a95  \n",
       "4635021  d42865b7-7e04-4038-9be0-a59165625f06  \n",
       "4635022  d4b5aa49-d731-40f1-92f1-277416d6e063  \n",
       "4635023  e9fa2c3e-8c9e-448c-880a-21ca57c18b3b  \n",
       "\n",
       "[4635024 rows x 9 columns]"
      ]
     },
     "execution_count": 410,
     "metadata": {},
     "output_type": "execute_result"
    }
   ],
   "source": [
    "#ננקה את הדאטה מערכים חסרים\n",
    "dataS = data.sort_values(by=['user_session', 'event_time'])\n",
    "dataS = data[(data['user_session'].notnull())]\n",
    "dataS = dataS.reset_index(drop=True)\n",
    "dataS"
   ]
  },
  {
   "cell_type": "code",
   "execution_count": 411,
   "metadata": {},
   "outputs": [
    {
     "name": "stdout",
     "output_type": "stream",
     "text": [
      "<class 'pandas.core.frame.DataFrame'>\n",
      "RangeIndex: 4635024 entries, 0 to 4635023\n",
      "Data columns (total 9 columns):\n",
      " #   Column         Dtype         \n",
      "---  ------         -----         \n",
      " 0   event_time     datetime64[ns]\n",
      " 1   event_type     object        \n",
      " 2   product_id     int64         \n",
      " 3   category_id    int64         \n",
      " 4   category_code  object        \n",
      " 5   brand          object        \n",
      " 6   price          object        \n",
      " 7   user_id        int64         \n",
      " 8   user_session   object        \n",
      "dtypes: datetime64[ns](1), int64(3), object(5)\n",
      "memory usage: 318.3+ MB\n"
     ]
    }
   ],
   "source": [
    "#נשנה את הטייפ של העמודה כדי שנוכל לבצע בה חיסור\n",
    "dataS['event_time'] = dataS['event_time'].apply(lambda x: datetime.datetime.strptime(x, '%Y-%m-%d %H:%M:%S UTC'))\n",
    "dataS.info()"
   ]
  },
  {
   "cell_type": "code",
   "execution_count": null,
   "metadata": {
    "scrolled": true
   },
   "outputs": [],
   "source": [
    "dataS['duration_to_next_event'] = dataS.groupby('user_session')['event_time'].apply(lambda x: x.shift(-1) - x).fillna(pd.Timedelta(seconds=0))\n",
    "dataS['duration_to_next_event']= dataS['duration_to_next_event'].apply(lambda x: x.total_seconds())\n",
    "\n",
    "dataS"
   ]
  },
  {
   "cell_type": "markdown",
   "metadata": {},
   "source": [
    "**סעיף 2**"
   ]
  },
  {
   "cell_type": "code",
   "execution_count": null,
   "metadata": {
    "scrolled": true
   },
   "outputs": [],
   "source": [
    "dataS['MoreThan'] = dataS.groupby('user_id')['event_time'].apply(lambda x: (x - x.shift(1)) > datetime.timedelta(days=5)).reset_index(drop=True).astype(int)\n",
    "dataS['funnel_number'] = dataS.groupby('user_id')['MoreThan'].cumsum()\n",
    "dataS['funnel_number'] = dataS['funnel_number'].fillna(0) + 1\n",
    "dataS = dataS.drop('MoreThan', axis=1)\n",
    "dataS"
   ]
  },
  {
   "cell_type": "markdown",
   "metadata": {},
   "source": [
    "**סעיף 3**"
   ]
  },
  {
   "cell_type": "code",
   "execution_count": null,
   "metadata": {},
   "outputs": [],
   "source": [
    "dataS['one'] = 1\n",
    "dataS['index_in_funnel'] = dataS.groupby(['user_id','funnel_number','user_session'])['one'].cumsum()\n",
    "dataS = dataS.drop('one', axis=1)\n",
    "dataS"
   ]
  },
  {
   "cell_type": "code",
   "execution_count": null,
   "metadata": {},
   "outputs": [],
   "source": [
    "dataS[dataS['user_session'] == '11f77a13-3365-4014-8d60-bbb933b8c3f1']"
   ]
  },
  {
   "cell_type": "markdown",
   "metadata": {},
   "source": [
    "**סעיף 4**"
   ]
  },
  {
   "cell_type": "code",
   "execution_count": null,
   "metadata": {},
   "outputs": [],
   "source": [
    "dataS['priceNew']= dataS['price'].apply(lambda x: re.findall('([0-9]+.[0-9]+)', str(x)))\n",
    "dataS['price'] = dataS['priceNew'].apply(lambda x: float(x[0]))\n",
    "dataS = dataS.drop('priceNew', axis=1)\n",
    "dataS.info()"
   ]
  },
  {
   "cell_type": "markdown",
   "metadata": {},
   "source": [
    "***סעיף 5***"
   ]
  },
  {
   "cell_type": "code",
   "execution_count": null,
   "metadata": {},
   "outputs": [],
   "source": [
    "dataS['event_type'].unique()"
   ]
  },
  {
   "cell_type": "code",
   "execution_count": null,
   "metadata": {},
   "outputs": [],
   "source": [
    "ax = dataS['event_type'].value_counts().plot(kind='bar',\n",
    "                                    figsize=(8,5), color = 'purple',\n",
    "                                    title=\"How many of each type\")\n",
    "ax.set_xlabel(\"event_type\")\n",
    "ax.set_ylabel(\"Frequency\")\n",
    "for i, v in enumerate(dataS['event_type'].value_counts()):\n",
    "    ax.annotate(str(v), xy=(i, v), ha='center', va='bottom')\n",
    "    \n",
    "ax.set_xticklabels(ax.get_xticklabels(), rotation=0)\n",
    "\n",
    "plt.show()"
   ]
  },
  {
   "cell_type": "markdown",
   "metadata": {},
   "source": [
    "**סעיף 6**"
   ]
  },
  {
   "cell_type": "code",
   "execution_count": null,
   "metadata": {},
   "outputs": [],
   "source": [
    "#columns a+b+c+d:\n",
    "session_data = dataS.groupby('user_session').last()[['user_id', 'funnel_number', 'index_in_funnel']].reset_index()\n",
    "session_data"
   ]
  },
  {
   "cell_type": "code",
   "execution_count": null,
   "metadata": {},
   "outputs": [],
   "source": [
    "#columns e+f:\n",
    "session_data = session_data.merge(dataS.groupby('user_session')['event_type'].size().reset_index(name='amount_of_events'), on='user_session')\n",
    "session_data = session_data.merge(dataS.groupby('user_session')['duration_to_next_event'].sum().reset_index(name='session_duration'), on='user_session')\n",
    "session_data"
   ]
  },
  {
   "cell_type": "code",
   "execution_count": null,
   "metadata": {},
   "outputs": [],
   "source": [
    "#column g:\n",
    "view_events = dataS.iloc[np.where(dataS['event_type'] == 'view')][['user_session','product_id']]\n",
    "session_data = session_data.merge(view_events.groupby('user_session')['product_id'].agg(lambda x: x.tolist()).reset_index(name='list_of_viewed'), on='user_session', how='outer')\n",
    "session_data"
   ]
  },
  {
   "cell_type": "code",
   "execution_count": null,
   "metadata": {},
   "outputs": [],
   "source": [
    "#column h:\n",
    "cart_events = dataS.iloc[np.where(dataS['event_type'] == 'cart')][['user_session','product_id']]\n",
    "session_data = session_data.merge(cart_events.groupby('user_session')['product_id'].agg(lambda x: x.tolist()).reset_index(name='list_of_added_to_cart'), on='user_session', how='outer')\n",
    "session_data"
   ]
  },
  {
   "cell_type": "code",
   "execution_count": null,
   "metadata": {},
   "outputs": [],
   "source": [
    "#column i:\n",
    "purchase_events = dataS.iloc[np.where(dataS['event_type'] == 'purchase')][['user_session','product_id']]\n",
    "session_data = session_data.merge(purchase_events.groupby('user_session')['product_id'].agg(lambda x: x.tolist()).reset_index(name='list_of_purchased'), on='user_session', how='outer')"
   ]
  },
  {
   "cell_type": "code",
   "execution_count": null,
   "metadata": {},
   "outputs": [],
   "source": [
    "session_data"
   ]
  },
  {
   "cell_type": "code",
   "execution_count": null,
   "metadata": {},
   "outputs": [],
   "source": []
  }
 ],
 "metadata": {
  "kernelspec": {
   "display_name": "Python 3",
   "language": "python",
   "name": "python3"
  },
  "language_info": {
   "codemirror_mode": {
    "name": "ipython",
    "version": 3
   },
   "file_extension": ".py",
   "mimetype": "text/x-python",
   "name": "python",
   "nbconvert_exporter": "python",
   "pygments_lexer": "ipython3",
   "version": "3.8.5"
  }
 },
 "nbformat": 4,
 "nbformat_minor": 4
}
