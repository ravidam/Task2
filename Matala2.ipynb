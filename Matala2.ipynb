{
 "cells": [
  {
   "cell_type": "code",
   "execution_count": 484,
   "metadata": {},
   "outputs": [],
   "source": [
    "import pandas as pd\n",
    "import datetime\n",
    "import re\n",
    "import matplotlib.pyplot as plt"
   ]
  },
  {
   "cell_type": "code",
   "execution_count": 485,
   "metadata": {},
   "outputs": [
    {
     "name": "stderr",
     "output_type": "stream",
     "text": [
      "C:\\Users\\RAVID\\anaconda3\\lib\\site-packages\\IPython\\core\\interactiveshell.py:3146: DtypeWarning: Columns (6) have mixed types.Specify dtype option on import or set low_memory=False.\n",
      "  has_raised = await self.run_ast_nodes(code_ast.body, cell_name,\n"
     ]
    },
    {
     "name": "stdout",
     "output_type": "stream",
     "text": [
      "<class 'pandas.core.frame.DataFrame'>\n",
      "RangeIndex: 4635837 entries, 0 to 4635836\n",
      "Data columns (total 9 columns):\n",
      " #   Column         Dtype \n",
      "---  ------         ----- \n",
      " 0   event_time     object\n",
      " 1   event_type     object\n",
      " 2   product_id     int64 \n",
      " 3   category_id    int64 \n",
      " 4   category_code  object\n",
      " 5   brand          object\n",
      " 6   price          object\n",
      " 7   user_id        int64 \n",
      " 8   user_session   object\n",
      "dtypes: int64(3), object(6)\n",
      "memory usage: 318.3+ MB\n"
     ]
    }
   ],
   "source": [
    "data = pd.read_csv('C:\\\\Users\\\\RAVID\\\\Desktop\\\\Ariel\\\\3rd year\\\\semester 2\\\\כרייה וניתוח נתונים מתקדם בפייתון\\\\מטלות\\\\מטלה 2\\\\matala2_cosmetics_2019-Nov.csv')\n",
    "data.info()"
   ]
  },
  {
   "cell_type": "markdown",
   "metadata": {},
   "source": [
    "**סעיף 1**"
   ]
  },
  {
   "cell_type": "code",
   "execution_count": 486,
   "metadata": {},
   "outputs": [
    {
     "data": {
      "text/html": [
       "<div>\n",
       "<style scoped>\n",
       "    .dataframe tbody tr th:only-of-type {\n",
       "        vertical-align: middle;\n",
       "    }\n",
       "\n",
       "    .dataframe tbody tr th {\n",
       "        vertical-align: top;\n",
       "    }\n",
       "\n",
       "    .dataframe thead th {\n",
       "        text-align: right;\n",
       "    }\n",
       "</style>\n",
       "<table border=\"1\" class=\"dataframe\">\n",
       "  <thead>\n",
       "    <tr style=\"text-align: right;\">\n",
       "      <th></th>\n",
       "      <th>event_time</th>\n",
       "      <th>event_type</th>\n",
       "      <th>product_id</th>\n",
       "      <th>category_id</th>\n",
       "      <th>category_code</th>\n",
       "      <th>brand</th>\n",
       "      <th>price</th>\n",
       "      <th>user_id</th>\n",
       "      <th>user_session</th>\n",
       "    </tr>\n",
       "  </thead>\n",
       "  <tbody>\n",
       "    <tr>\n",
       "      <th>0</th>\n",
       "      <td>2019-11-05 07:57:05 UTC</td>\n",
       "      <td>view</td>\n",
       "      <td>5829298</td>\n",
       "      <td>1487580011585077370</td>\n",
       "      <td>NaN</td>\n",
       "      <td>farmstay</td>\n",
       "      <td>0.79</td>\n",
       "      <td>556321594</td>\n",
       "      <td>00000dd2-0f5d-4fc9-9d6b-2fc8c7514b04</td>\n",
       "    </tr>\n",
       "    <tr>\n",
       "      <th>1</th>\n",
       "      <td>2019-11-11 12:15:10 UTC</td>\n",
       "      <td>view</td>\n",
       "      <td>5771614</td>\n",
       "      <td>2193074740619379535</td>\n",
       "      <td>furniture.living_room.cabinet</td>\n",
       "      <td>kosmekka</td>\n",
       "      <td>150.79</td>\n",
       "      <td>570103701</td>\n",
       "      <td>00001bc6-1e04-4861-be5d-1bc73929c21a</td>\n",
       "    </tr>\n",
       "    <tr>\n",
       "      <th>2</th>\n",
       "      <td>2019-11-15 03:50:03 UTC</td>\n",
       "      <td>view</td>\n",
       "      <td>5568472</td>\n",
       "      <td>1487580005595612013</td>\n",
       "      <td>NaN</td>\n",
       "      <td>NaN</td>\n",
       "      <td>3</td>\n",
       "      <td>571677620</td>\n",
       "      <td>00001e77-5db8-4e96-ab7a-022ed3caf8b3</td>\n",
       "    </tr>\n",
       "    <tr>\n",
       "      <th>3</th>\n",
       "      <td>2019-11-13 04:37:37 UTC</td>\n",
       "      <td>view</td>\n",
       "      <td>5864850</td>\n",
       "      <td>1487580005268456287</td>\n",
       "      <td>NaN</td>\n",
       "      <td>NaN</td>\n",
       "      <td>12.7</td>\n",
       "      <td>504468592</td>\n",
       "      <td>00004c7d-9507-474e-a559-0fdaccaaa390</td>\n",
       "    </tr>\n",
       "    <tr>\n",
       "      <th>4</th>\n",
       "      <td>2019-11-14 03:59:32 UTC</td>\n",
       "      <td>view</td>\n",
       "      <td>5861620</td>\n",
       "      <td>1487580008263189483</td>\n",
       "      <td>NaN</td>\n",
       "      <td>lador</td>\n",
       "      <td>2.25</td>\n",
       "      <td>571211128</td>\n",
       "      <td>0000597b-de39-4a77-9fe5-02c8792ca14e</td>\n",
       "    </tr>\n",
       "    <tr>\n",
       "      <th>...</th>\n",
       "      <td>...</td>\n",
       "      <td>...</td>\n",
       "      <td>...</td>\n",
       "      <td>...</td>\n",
       "      <td>...</td>\n",
       "      <td>...</td>\n",
       "      <td>...</td>\n",
       "      <td>...</td>\n",
       "      <td>...</td>\n",
       "    </tr>\n",
       "    <tr>\n",
       "      <th>4635019</th>\n",
       "      <td>2019-11-27 09:26:21 UTC</td>\n",
       "      <td>view</td>\n",
       "      <td>5588154</td>\n",
       "      <td>1487580006300255120</td>\n",
       "      <td>NaN</td>\n",
       "      <td>irisk</td>\n",
       "      <td>77.78</td>\n",
       "      <td>577542926</td>\n",
       "      <td>ffff5954-5b7f-4dd8-9fa1-078ae32e684f</td>\n",
       "    </tr>\n",
       "    <tr>\n",
       "      <th>4635020</th>\n",
       "      <td>2019-11-27 09:27:35 UTC</td>\n",
       "      <td>view</td>\n",
       "      <td>5676246</td>\n",
       "      <td>1487580006300255120</td>\n",
       "      <td>NaN</td>\n",
       "      <td>marathon</td>\n",
       "      <td>137.78</td>\n",
       "      <td>577542926</td>\n",
       "      <td>ffff5954-5b7f-4dd8-9fa1-078ae32e684f</td>\n",
       "    </tr>\n",
       "    <tr>\n",
       "      <th>4635021</th>\n",
       "      <td>2019-11-09 17:02:14 UTC</td>\n",
       "      <td>view</td>\n",
       "      <td>5847328</td>\n",
       "      <td>1982860244379763042</td>\n",
       "      <td>NaN</td>\n",
       "      <td>NaN</td>\n",
       "      <td>8.25</td>\n",
       "      <td>560528468</td>\n",
       "      <td>ffff8044-2a22-4846-8a72-999e870abbe9</td>\n",
       "    </tr>\n",
       "    <tr>\n",
       "      <th>4635022</th>\n",
       "      <td>2019-11-02 11:47:34 UTC</td>\n",
       "      <td>view</td>\n",
       "      <td>5528034</td>\n",
       "      <td>1487580005553668971</td>\n",
       "      <td>NaN</td>\n",
       "      <td>NaN</td>\n",
       "      <td>9.52</td>\n",
       "      <td>566764549</td>\n",
       "      <td>ffffbe0a-d2c2-47c7-afab-680bfdfda50d</td>\n",
       "    </tr>\n",
       "    <tr>\n",
       "      <th>4635023</th>\n",
       "      <td>2019-11-30 00:02:59 UTC</td>\n",
       "      <td>view</td>\n",
       "      <td>5727753</td>\n",
       "      <td>1487580013917110492</td>\n",
       "      <td>NaN</td>\n",
       "      <td>NaN</td>\n",
       "      <td>6.19</td>\n",
       "      <td>579330435</td>\n",
       "      <td>ffffd77a-a036-47bf-827c-a0758ed05d9f</td>\n",
       "    </tr>\n",
       "  </tbody>\n",
       "</table>\n",
       "<p>4635024 rows × 9 columns</p>\n",
       "</div>"
      ],
      "text/plain": [
       "                      event_time event_type  product_id          category_id  \\\n",
       "0        2019-11-05 07:57:05 UTC       view     5829298  1487580011585077370   \n",
       "1        2019-11-11 12:15:10 UTC       view     5771614  2193074740619379535   \n",
       "2        2019-11-15 03:50:03 UTC       view     5568472  1487580005595612013   \n",
       "3        2019-11-13 04:37:37 UTC       view     5864850  1487580005268456287   \n",
       "4        2019-11-14 03:59:32 UTC       view     5861620  1487580008263189483   \n",
       "...                          ...        ...         ...                  ...   \n",
       "4635019  2019-11-27 09:26:21 UTC       view     5588154  1487580006300255120   \n",
       "4635020  2019-11-27 09:27:35 UTC       view     5676246  1487580006300255120   \n",
       "4635021  2019-11-09 17:02:14 UTC       view     5847328  1982860244379763042   \n",
       "4635022  2019-11-02 11:47:34 UTC       view     5528034  1487580005553668971   \n",
       "4635023  2019-11-30 00:02:59 UTC       view     5727753  1487580013917110492   \n",
       "\n",
       "                         category_code     brand   price    user_id  \\\n",
       "0                                  NaN  farmstay    0.79  556321594   \n",
       "1        furniture.living_room.cabinet  kosmekka  150.79  570103701   \n",
       "2                                  NaN       NaN       3  571677620   \n",
       "3                                  NaN       NaN    12.7  504468592   \n",
       "4                                  NaN     lador    2.25  571211128   \n",
       "...                                ...       ...     ...        ...   \n",
       "4635019                            NaN     irisk   77.78  577542926   \n",
       "4635020                            NaN  marathon  137.78  577542926   \n",
       "4635021                            NaN       NaN    8.25  560528468   \n",
       "4635022                            NaN       NaN    9.52  566764549   \n",
       "4635023                            NaN       NaN    6.19  579330435   \n",
       "\n",
       "                                 user_session  \n",
       "0        00000dd2-0f5d-4fc9-9d6b-2fc8c7514b04  \n",
       "1        00001bc6-1e04-4861-be5d-1bc73929c21a  \n",
       "2        00001e77-5db8-4e96-ab7a-022ed3caf8b3  \n",
       "3        00004c7d-9507-474e-a559-0fdaccaaa390  \n",
       "4        0000597b-de39-4a77-9fe5-02c8792ca14e  \n",
       "...                                       ...  \n",
       "4635019  ffff5954-5b7f-4dd8-9fa1-078ae32e684f  \n",
       "4635020  ffff5954-5b7f-4dd8-9fa1-078ae32e684f  \n",
       "4635021  ffff8044-2a22-4846-8a72-999e870abbe9  \n",
       "4635022  ffffbe0a-d2c2-47c7-afab-680bfdfda50d  \n",
       "4635023  ffffd77a-a036-47bf-827c-a0758ed05d9f  \n",
       "\n",
       "[4635024 rows x 9 columns]"
      ]
     },
     "execution_count": 486,
     "metadata": {},
     "output_type": "execute_result"
    }
   ],
   "source": [
    "#ננקה את הדאטה מערכים חסרים\n",
    "dataS = data.sort_values(by=['user_session', 'event_time'])\n",
    "dataS = dataS[(dataS['user_session'].notnull())]\n",
    "dataS = dataS.reset_index(drop=True)\n",
    "dataS"
   ]
  },
  {
   "cell_type": "code",
   "execution_count": 487,
   "metadata": {},
   "outputs": [
    {
     "name": "stdout",
     "output_type": "stream",
     "text": [
      "<class 'pandas.core.frame.DataFrame'>\n",
      "RangeIndex: 4635024 entries, 0 to 4635023\n",
      "Data columns (total 9 columns):\n",
      " #   Column         Dtype         \n",
      "---  ------         -----         \n",
      " 0   event_time     datetime64[ns]\n",
      " 1   event_type     object        \n",
      " 2   product_id     int64         \n",
      " 3   category_id    int64         \n",
      " 4   category_code  object        \n",
      " 5   brand          object        \n",
      " 6   price          object        \n",
      " 7   user_id        int64         \n",
      " 8   user_session   object        \n",
      "dtypes: datetime64[ns](1), int64(3), object(5)\n",
      "memory usage: 318.3+ MB\n"
     ]
    }
   ],
   "source": [
    "#נשנה את הטייפ של העמודה כדי שנוכל לבצע בה חיסור\n",
    "dataS['event_time'] = dataS['event_time'].apply(lambda x: datetime.datetime.strptime(x, '%Y-%m-%d %H:%M:%S UTC'))\n",
    "dataS.info()"
   ]
  },
  {
   "cell_type": "code",
   "execution_count": null,
   "metadata": {
    "scrolled": true
   },
   "outputs": [],
   "source": [
    "dataS['duration_to_next_event'] = dataS.groupby('user_session')['event_time'].apply(lambda x: x.shift(-1) - x).fillna(pd.Timedelta(seconds=0))\n",
    "dataS['duration_to_next_event']= dataS['duration_to_next_event'].apply(lambda x: x.total_seconds())\n",
    "dataS"
   ]
  },
  {
   "cell_type": "markdown",
   "metadata": {},
   "source": [
    "**סעיף 2**"
   ]
  },
  {
   "cell_type": "code",
   "execution_count": null,
   "metadata": {
    "scrolled": true
   },
   "outputs": [],
   "source": [
    "dataS['MoreThan'] = dataS.groupby('user_id')['event_time'].apply(lambda x: (x - x.shift(1)) > datetime.timedelta(days=5)).reset_index(drop=True).astype(int)\n",
    "dataS['funnel_number'] = dataS.groupby('user_id')['MoreThan'].cumsum()\n",
    "dataS['funnel_number'] = dataS['funnel_number'].fillna(0) + 1\n",
    "dataS = dataS.drop('MoreThan', axis=1)\n",
    "dataS"
   ]
  },
  {
   "cell_type": "markdown",
   "metadata": {},
   "source": [
    "**סעיף 3**"
   ]
  },
  {
   "cell_type": "code",
   "execution_count": null,
   "metadata": {},
   "outputs": [],
   "source": [
    "dataS['one'] = (dataS['user_session'].shift(1) != dataS['user_session']).astype(int)\n",
    "dataS['index_in_funnel'] = dataS.groupby(['user_id','funnel_number'])['one'].cumsum()\n",
    "dataS = dataS.drop('one', axis=1)\n",
    "dataS"
   ]
  },
  {
   "cell_type": "markdown",
   "metadata": {},
   "source": [
    "**סעיף 4**"
   ]
  },
  {
   "cell_type": "code",
   "execution_count": null,
   "metadata": {},
   "outputs": [],
   "source": [
    "dataS['priceNew']= dataS['price'].apply(lambda x: re.findall('([0-9]+.[0-9]+)', str(x)))\n",
    "dataS['price'] = dataS['priceNew'].apply(lambda x: float(x[0]))\n",
    "dataS = dataS.drop('priceNew', axis=1)\n",
    "dataS.info()"
   ]
  },
  {
   "cell_type": "markdown",
   "metadata": {},
   "source": [
    "***סעיף 5***"
   ]
  },
  {
   "cell_type": "code",
   "execution_count": null,
   "metadata": {},
   "outputs": [],
   "source": [
    "dataS['event_type'].unique()"
   ]
  },
  {
   "cell_type": "code",
   "execution_count": null,
   "metadata": {},
   "outputs": [],
   "source": [
    "ax = dataS['event_type'].value_counts().plot(kind='bar',\n",
    "                                    figsize=(8,5), color = 'purple',\n",
    "                                    title=\"How many of each type\")\n",
    "ax.set_xlabel(\"event_type\")\n",
    "ax.set_ylabel(\"Frequency\")\n",
    "for i, v in enumerate(dataS['event_type'].value_counts()):\n",
    "    ax.annotate(str(v), xy=(i, v), ha='center', va='bottom')\n",
    "    \n",
    "ax.set_xticklabels(ax.get_xticklabels(), rotation=0)\n",
    "\n",
    "plt.show()"
   ]
  },
  {
   "cell_type": "markdown",
   "metadata": {},
   "source": [
    "**סעיף 6**"
   ]
  },
  {
   "cell_type": "code",
   "execution_count": null,
   "metadata": {},
   "outputs": [],
   "source": [
    "#columns a+b+c+d:\n",
    "session_data = dataS.groupby('user_session').last()[['user_id', 'funnel_number', 'index_in_funnel']].reset_index()\n",
    "session_data"
   ]
  },
  {
   "cell_type": "code",
   "execution_count": null,
   "metadata": {},
   "outputs": [],
   "source": [
    "#columns e+f:\n",
    "session_data = session_data.merge(dataS.groupby('user_session')['event_type'].size().reset_index(name='amount_of_events'), on='user_session')\n",
    "session_data = session_data.merge(dataS.groupby('user_session')['duration_to_next_event'].sum().reset_index(name='session_duration'), on='user_session')\n",
    "session_data"
   ]
  },
  {
   "cell_type": "code",
   "execution_count": null,
   "metadata": {},
   "outputs": [],
   "source": [
    "#column g:\n",
    "view_events = dataS.iloc[np.where(dataS['event_type'] == 'view')][['user_session','product_id']]\n",
    "session_data = session_data.merge(view_events.groupby('user_session')['product_id'].agg(lambda x: x.tolist()).reset_index(name='list_of_viewed'), on='user_session', how='outer')\n",
    "session_data"
   ]
  },
  {
   "cell_type": "code",
   "execution_count": null,
   "metadata": {},
   "outputs": [],
   "source": [
    "#column h:\n",
    "cart_events = dataS.iloc[np.where(dataS['event_type'] == 'cart')][['user_session','product_id']]\n",
    "session_data = session_data.merge(cart_events.groupby('user_session')['product_id'].agg(lambda x: x.tolist()).reset_index(name='list_of_added_to_cart'), on='user_session', how='outer')\n",
    "session_data"
   ]
  },
  {
   "cell_type": "code",
   "execution_count": null,
   "metadata": {},
   "outputs": [],
   "source": [
    "#column i:\n",
    "purchase_events = dataS.iloc[np.where(dataS['event_type'] == 'purchase')][['user_session','product_id']]\n",
    "session_data = session_data.merge(purchase_events.groupby('user_session')['product_id'].agg(lambda x: x.tolist()).reset_index(name='list_of_purchased'), on='user_session', how='outer')"
   ]
  },
  {
   "cell_type": "code",
   "execution_count": null,
   "metadata": {},
   "outputs": [],
   "source": [
    "session_data"
   ]
  },
  {
   "cell_type": "code",
   "execution_count": null,
   "metadata": {},
   "outputs": [],
   "source": []
  }
 ],
 "metadata": {
  "kernelspec": {
   "display_name": "Python 3",
   "language": "python",
   "name": "python3"
  },
  "language_info": {
   "codemirror_mode": {
    "name": "ipython",
    "version": 3
   },
   "file_extension": ".py",
   "mimetype": "text/x-python",
   "name": "python",
   "nbconvert_exporter": "python",
   "pygments_lexer": "ipython3",
   "version": "3.8.5"
  }
 },
 "nbformat": 4,
 "nbformat_minor": 4
}
